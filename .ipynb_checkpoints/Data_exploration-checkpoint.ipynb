{
 "cells": [
  {
   "cell_type": "markdown",
   "metadata": {
    "colab_type": "text",
    "id": "view-in-github"
   },
   "source": [
    "<a href=\"https://colab.research.google.com/github/GautierDulac/skin-cancer-identification/blob/master/Data_exploration.ipynb\" target=\"_parent\"><img src=\"https://colab.research.google.com/assets/colab-badge.svg\" alt=\"Open In Colab\"/></a>"
   ]
  },
  {
   "cell_type": "markdown",
   "metadata": {},
   "source": [
    "# Importing packages and data"
   ]
  },
  {
   "cell_type": "code",
   "execution_count": 6,
   "metadata": {
    "colab": {},
    "colab_type": "code",
    "id": "Op6b-kLQNx4q"
   },
   "outputs": [],
   "source": [
    "import matplotlib.pyplot as plt\n",
    "import seaborn as sns\n",
    "import numpy as np\n",
    "import pandas as pd\n",
    "\n",
    "\n",
    "import os\n",
    "import torch\n",
    "import torch.nn as nn\n",
    "import torchvision\n",
    "from torchvision import models,transforms,datasets\n",
    "import time\n",
    "%matplotlib inline"
   ]
  },
  {
   "cell_type": "code",
   "execution_count": 40,
   "metadata": {},
   "outputs": [],
   "source": [
    "train_dir = 'data/train'\n",
    "test_dir = 'data/test'\n",
    "valid_dir = 'data/valid'"
   ]
  },
  {
   "cell_type": "code",
   "execution_count": 41,
   "metadata": {},
   "outputs": [],
   "source": [
    "path_train = [os.path.join(train_dir, x) for x in ['benign', 'malignant']]\n",
    "path_test = [os.path.join(test_dir, x) for x in ['benign', 'malignant']]\n",
    "path_valid = [os.path.join(valid_dir, x) for x in ['benign', 'malignant']]"
   ]
  },
  {
   "cell_type": "markdown",
   "metadata": {},
   "source": [
    "# Dataset size"
   ]
  },
  {
   "cell_type": "code",
   "execution_count": 46,
   "metadata": {},
   "outputs": [],
   "source": [
    "len_train_b = len(os.listdir(path_train[0]))\n",
    "len_train_m = len(os.listdir(path_train[1]))\n",
    "len_test_b = len(os.listdir(path_test[0]))\n",
    "len_test_m = len(os.listdir(path_test[1]))\n",
    "len_valid_b = len(os.listdir(path_valid[0]))\n",
    "len_valid_m = len(os.listdir(path_valid[1]))\n",
    "\n",
    "len_train = len_train_b + len_train_m\n",
    "len_test = len_test_b + len_test_m\n",
    "len_valid = len_valid_b + len_valid_m\n",
    "\n",
    "len_b = len_train_b + len_test_b + len_valid_b\n",
    "len_m = len_train_m + len_test_m + len_valid_m"
   ]
  },
  {
   "cell_type": "code",
   "execution_count": 49,
   "metadata": {},
   "outputs": [
    {
     "name": "stdout",
     "output_type": "stream",
     "text": [
      "Length of training datset: 2637 images\n",
      "# of benign: 1440 images\n",
      "# of malignant: 1197 images\n"
     ]
    }
   ],
   "source": [
    "print('Length of training datset: %s images' % len_train)\n",
    "print('# of benign: %s images' % len_train_b)\n",
    "print('# of malignant: %s images' % len_train_m)"
   ]
  },
  {
   "cell_type": "code",
   "execution_count": 50,
   "metadata": {},
   "outputs": [
    {
     "name": "stdout",
     "output_type": "stream",
     "text": [
      "Length of testing datset: 224 images\n",
      "# of benign: 120 images\n",
      "# of malignant: 104 images\n"
     ]
    }
   ],
   "source": [
    "print('Length of testing datset: %s images' % len_test)\n",
    "print('# of benign: %s images' % len_test_b)\n",
    "print('# of malignant: %s images' % len_test_m)"
   ]
  },
  {
   "cell_type": "code",
   "execution_count": 51,
   "metadata": {},
   "outputs": [
    {
     "name": "stdout",
     "output_type": "stream",
     "text": [
      "Length of validation datset: 436 images\n",
      "# of benign: 240 images\n",
      "# of malignant: 196 images\n"
     ]
    }
   ],
   "source": [
    "print('Length of validation datset: %s images' % len_valid)\n",
    "print('# of benign: %s images' % len_valid_b)\n",
    "print('# of malignant: %s images' % len_valid_m)"
   ]
  },
  {
   "cell_type": "code",
   "execution_count": 52,
   "metadata": {},
   "outputs": [
    {
     "name": "stdout",
     "output_type": "stream",
     "text": [
      "# of benign: 1800 images\n",
      "# of malignant: 1497 images\n"
     ]
    }
   ],
   "source": [
    "print('# of benign: %s images' % len_b)\n",
    "print('# of malignant: %s images' % len_m)"
   ]
  },
  {
   "cell_type": "code",
   "execution_count": null,
   "metadata": {},
   "outputs": [],
   "source": []
  }
 ],
 "metadata": {
  "colab": {
   "collapsed_sections": [],
   "include_colab_link": true,
   "name": "Data_exploration.ipynb",
   "provenance": []
  },
  "kernelspec": {
   "display_name": "Python 3",
   "language": "python",
   "name": "python3"
  },
  "language_info": {
   "codemirror_mode": {
    "name": "ipython",
    "version": 3
   },
   "file_extension": ".py",
   "mimetype": "text/x-python",
   "name": "python",
   "nbconvert_exporter": "python",
   "pygments_lexer": "ipython3",
   "version": "3.6.8"
  }
 },
 "nbformat": 4,
 "nbformat_minor": 1
}
